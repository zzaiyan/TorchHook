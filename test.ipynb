{
 "cells": [
  {
   "cell_type": "markdown",
   "id": "9d9fe5ec",
   "metadata": {},
   "source": [
    "# TorchHook 使用示例\n",
    "本示例展示了如何使用 TorchHook 捕获 PyTorch 模型的中间特征图。"
   ]
  },
  {
   "cell_type": "code",
   "execution_count": 1,
   "id": "0ef89888",
   "metadata": {},
   "outputs": [
    {
     "name": "stdout",
     "output_type": "stream",
     "text": [
      "Model: MyModel\n",
      "Layer Name                    Feature Count       Feature Shape                 \n",
      "--------------------------------------------------------------------------------\n",
      "conv1                         5                   (2, 16, 30, 30)               \n",
      "ReLU_0                        5                   (2, 16, 30, 30)               \n",
      "CustomName                    5                   (2, 10)                       \n",
      "--------------------------------------------------------------------------------\n",
      "Current keys: ['conv1', 'ReLU_0', 'CustomName']\n",
      "\n",
      "conv1: torch.Size([2, 16, 30, 30])\n",
      "   fc: torch.Size([2, 10])\n",
      "\n",
      "Mean and Std of features:\n",
      "Layer: conv1, Mean: -0.0400, Std: 0.5891\n",
      "Layer: ReLU_0, Mean: 0.2146, Std: 0.3305\n",
      "Layer: CustomName, Mean: -0.0245, Std: 0.2141\n"
     ]
    }
   ],
   "source": [
    "import torch\n",
    "import torch.nn as nn\n",
    "from torchhook import HookManager\n",
    "\n",
    "# 定义一个简单的模型\n",
    "class MyModel(nn.Module):\n",
    "    def __init__(self):\n",
    "        super(MyModel, self).__init__()\n",
    "        self.conv1 = nn.Conv2d(3, 16, 3)\n",
    "        self.relu = nn.ReLU()\n",
    "        self.fc = nn.Linear(16 * 30 * 30, 10)\n",
    "\n",
    "    def forward(self, x):\n",
    "        x = self.conv1(x)\n",
    "        x = self.relu(x)\n",
    "        x = x.view(x.size(0), -1)\n",
    "        x = self.fc(x)\n",
    "        return x\n",
    "\n",
    "# 初始化模型和 HookManager\n",
    "model = MyModel()\n",
    "hook_manager = HookManager(model)\n",
    "\n",
    "# 使用 layer_name 注册 hooks（推荐，简单易用）\n",
    "hook_manager.register_forward_hook(layer_name=\"conv1\")\n",
    "\n",
    "# 使用 layer 对象注册 hooks（自动命名为：类名+序号）\n",
    "hook_manager.register_forward_hook(layer=model.relu)\n",
    "\n",
    "# 使用自定义名称注册 hooks（适用于调试时区分不同 hooks）\n",
    "hook_manager.register_forward_hook('CustomName', layer=model.fc)\n",
    "\n",
    "# 运行模型\n",
    "for _ in range(5):\n",
    "    # 生成随机输入数据\n",
    "    input_tensor = torch.randn(2, 3, 32, 32)\n",
    "    output = model(input_tensor)\n",
    "\n",
    "# 打印 HookManager 信息\n",
    "print(hook_manager)\n",
    "print(\"Current keys:\", hook_manager.get_keys())  # 获取所有注册的 hooks 名称\n",
    "\n",
    "# 获取中间结果（特征图）\n",
    "print(\"\\nconv1:\", hook_manager.get_features('conv1')[0].shape)  # conv1 的特征图\n",
    "print(\"   fc:\", hook_manager.get_features('CustomName')[0].shape)  # fc 的特征图\n",
    "\n",
    "# 获取所有特征图\n",
    "all_features = hook_manager.get_all()\n",
    "\n",
    "# 将每列的特征图 concat 起来（数据量过大时可能会内存溢出）\n",
    "concatenated_features = {key: torch.cat(features, dim=0) for key, features in all_features.items()}\n",
    "\n",
    "# 计算均值和标准差\n",
    "stats = {key: (torch.mean(value), torch.std(value)) for key, value in concatenated_features.items()}\n",
    "\n",
    "# 打印结果\n",
    "print(\"\\nMean and Std of features:\")\n",
    "for key, (mean, std) in stats.items():\n",
    "    print(f\"Layer: {key}, Mean: {mean.item():.4f}, Std: {std.item():.4f}\")\n",
    "\n",
    "# 清理 hooks 和特征图\n",
    "hook_manager.clear_hooks()\n",
    "hook_manager.clear_features()"
   ]
  }
 ],
 "metadata": {
  "kernelspec": {
   "display_name": "dl",
   "language": "python",
   "name": "python3"
  },
  "language_info": {
   "codemirror_mode": {
    "name": "ipython",
    "version": 3
   },
   "file_extension": ".py",
   "mimetype": "text/x-python",
   "name": "python",
   "nbconvert_exporter": "python",
   "pygments_lexer": "ipython3",
   "version": "3.10.14"
  }
 },
 "nbformat": 4,
 "nbformat_minor": 5
}
